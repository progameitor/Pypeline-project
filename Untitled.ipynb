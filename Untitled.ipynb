{
 "cells": [
  {
   "cell_type": "code",
   "execution_count": 18,
   "metadata": {},
   "outputs": [
    {
     "ename": "IndentationError",
     "evalue": "unindent does not match any outer indentation level (<tokenize>, line 15)",
     "output_type": "error",
     "traceback": [
      "\u001b[0;36m  File \u001b[0;32m\"<tokenize>\"\u001b[0;36m, line \u001b[0;32m15\u001b[0m\n\u001b[0;31m    ''' if e == a:\u001b[0m\n\u001b[0m    ^\u001b[0m\n\u001b[0;31mIndentationError\u001b[0m\u001b[0;31m:\u001b[0m unindent does not match any outer indentation level\n"
     ]
    }
   ],
   "source": [
    "'''def alphabet_war(fight):'''\n",
    "    #your code here\n",
    "right= {\"w\":4,\"p\":3,\"b\":2,\"s\":1}\n",
    "left=  {\"m\":4,\"q\":3,\"d\":2,\"z\":1}\n",
    "\n",
    "fight = 'zzzy'\n",
    "count= 0\n",
    "counts = 0\n",
    "for e in fight:\n",
    "    for x,y in right.items():\n",
    "        for a,b in left.items():\n",
    "            if e == x:\n",
    "                count +=y\n",
    "                    print(count)\n",
    "               ''' if e == a:\n",
    "                    counts +=b\n",
    "                if e == x and e == a:\n",
    "                    if counts == count:\n",
    "                        print(\"Let's fight again!\")\n",
    "                if count > counts:\n",
    "                    print(\"Right side wins!\")\n",
    "                if counts > count:\n",
    "                    print(\"Left side wins!\")'''\n"
   ]
  },
  {
   "cell_type": "code",
   "execution_count": null,
   "metadata": {},
   "outputs": [],
   "source": []
  }
 ],
 "metadata": {
  "kernelspec": {
   "display_name": "Python 3",
   "language": "python",
   "name": "python3"
  },
  "language_info": {
   "codemirror_mode": {
    "name": "ipython",
    "version": 3
   },
   "file_extension": ".py",
   "mimetype": "text/x-python",
   "name": "python",
   "nbconvert_exporter": "python",
   "pygments_lexer": "ipython3",
   "version": "3.7.5rc1"
  }
 },
 "nbformat": 4,
 "nbformat_minor": 2
}
